{
  "nbformat": 4,
  "nbformat_minor": 0,
  "metadata": {
    "colab": {
      "provenance": [],
      "authorship_tag": "ABX9TyMuwzDUQeJAhvJapmaMME8X",
      "include_colab_link": true
    },
    "kernelspec": {
      "name": "python3",
      "display_name": "Python 3"
    },
    "language_info": {
      "name": "python"
    }
  },
  "cells": [
    {
      "cell_type": "markdown",
      "metadata": {
        "id": "view-in-github",
        "colab_type": "text"
      },
      "source": [
        "<a href=\"https://colab.research.google.com/github/divya-shree1125/app/blob/main/stock.ipynb\" target=\"_parent\"><img src=\"https://colab.research.google.com/assets/colab-badge.svg\" alt=\"Open In Colab\"/></a>"
      ]
    },
    {
      "cell_type": "code",
      "execution_count": null,
      "metadata": {
        "id": "0hyQltmTeJuj"
      },
      "outputs": [],
      "source": [
        "import streamlit as st\n",
        "import pandas as pd\n",
        "import numpy as np\n",
        "import yfinance as yf\n",
        "import plotly.express as px\n",
        "from PIL import Image\n",
        "\n",
        "st.title(\"Real_Time_Stock_market\")\n",
        "st.image('.github/stock.jpg',width=500)\n",
        "st.sidebar.title(\"Please provied the following\")\n",
        "ticker_symbol=st.sidebar.text_input('enter the ticker:')\n",
        "start_date=st.sidebar.date_input(\"start_date\",value=None)\n",
        "end_date=st.sidebar.date_input(\"end_date\",value=None)\n",
        "\n",
        "ticker=yf.Ticker(ticker_symbol)\n",
        "historical_data=ticker.history(start=start_date,end=end_date)\n",
        "stockdata=yf.download(ticker_symbol,start=start_date,end=end_date)\n",
        "\n",
        "price_tab,chart_tab,hist,fund,news=st.tabs(['Price Movement','Charts','Historical Data','Fundamental','TOP10 NEWS'])\n",
        "with price_tab:\n",
        "    st.write(f'Price Movement {ticker_symbol}')\n",
        "    st.write(stockdata)\n",
        "    csv=stockdata.to_csv().encode('utf-8')\n",
        "    st.download_button(label=\"Download CSV\",data=csv,file_name=f\"{ticker_symbol}_Pricedata.csv\",mime='text/csv')\n",
        "with hist:\n",
        "    st.write(f'Historical Data {ticker_symbol}')\n",
        "    st.write(historical_data)\n",
        "    csv=historical_data.to_csv().encode('utf-8')\n",
        "    st.download_button(label=\"Download CSV\",data=csv,file_name=f\"{ticker_symbol}_historicaldata.csv\",mime='text/csv')\n",
        "with chart_tab:\n",
        "    historical_data['50-DAY']=historical_data['Close'].rolling(window=50).mean()\n",
        "    historical_data['200-DAY']=historical_data['Close'].rolling(window=200).mean()\n",
        "    st.subheader(f'Line chart  {ticker_symbol}')\n",
        "    st.line_chart(historical_data[['Close','50-DAY','200-DAY']])\n",
        "    st.subheader(f'Area chart  {ticker_symbol}')\n",
        "    st.area_chart(historical_data[['Close','50-DAY','200-DAY']])\n",
        "\n",
        "from alpha_vantage.fundamentaldata import FundamentalData\n",
        "with fund:\n",
        "    key='AW9L6GL4UWRNBQIL'\n",
        "    fd=FundamentalData(key,output_format='pandas')\n",
        "    st.subheader('BALANCE SHEET')\n",
        "    balance_sheet=fd.get_balance_sheet_annual(ticker_symbol)[0]\n",
        "    bs=balance_sheet.T[2:]\n",
        "    bs.columns=list(balance_sheet.T.iloc[0])\n",
        "    st.write(bs)\n",
        "    st.subheader('INCOME STATEMENT')\n",
        "    income_statement=fd.get_income_statement_annual(ticker_symbol)[0]\n",
        "    is1=income_statement.T[2:]\n",
        "    is1.columns=list(income_statement.T.iloc[0])\n",
        "    st.write(is1)\n",
        "    st.subheader('CASH FLOW STATEMENT')\n",
        "    cash_flow=fd.get_cash_flow_annual(ticker_symbol)[0]\n",
        "    cf=cash_flow.T[2:]\n",
        "    cf.columns=list(cash_flow.T.iloc[0])\n",
        "    st.write(cf)\n",
        "\n",
        "from stocknews import StockNews\n",
        "with news:\n",
        "    st.header(f'NEWS OF {ticker}')\n",
        "    sn=StockNews(ticker_symbol,save_news=False)\n",
        "    df_news=sn.read_rss()\n",
        "    for i in range(10):\n",
        "        st.subheader(f'NEWS{i+1}')\n",
        "        st.write(df_news['published'][i])\n",
        "        st.write(df_news['title'][i])\n",
        "        st.write(df_news['summary'][i])\n",
        "        title_sentiment=df_news['sentiment_title'][i]\n",
        "        st.write(f'Title sentiment{title_sentiment}')\n",
        "        news_sentiment=df_news['sentiment_summary'][i]\n",
        "        st.write(f'News sentiment{news_sentiment}')\n",
        "\n",
        "\n",
        "\n",
        "\n"
      ]
    }
  ]
}